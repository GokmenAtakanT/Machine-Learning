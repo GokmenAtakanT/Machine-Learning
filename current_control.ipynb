{
 "cells": [
  {
   "cell_type": "code",
   "execution_count": 4,
   "id": "dd003894",
   "metadata": {},
   "outputs": [],
   "source": [
    "import numpy as np\n",
    "import matplotlib.pyplot as plt\n"
   ]
  },
  {
   "cell_type": "code",
   "execution_count": 5,
   "id": "f49bfc6d",
   "metadata": {},
   "outputs": [],
   "source": [
    "time=np.linspace(0,0.01,10000)\n",
    "result=[]\n",
    "time_val=[]\n",
    "for i in range(0,len(time)):\n",
    "    t=time[i]\n",
    "    res=(0.809 - 0.809*np.exp(-1847.0589*t)*(np.cosh(0.808*t) + 2286.635*np.sinh(0.808*t)))*1.2355\n",
    "    result.append(res)\n",
    "    time_val.append(t)"
   ]
  },
  {
   "cell_type": "code",
   "execution_count": 6,
   "id": "7d347109",
   "metadata": {},
   "outputs": [
    {
     "data": {
      "text/plain": [
       "[<matplotlib.lines.Line2D at 0x1fed120d388>]"
      ]
     },
     "execution_count": 6,
     "metadata": {},
     "output_type": "execute_result"
    },
    {
     "data": {
      "image/png": "[encoded data removed]",
      "text/plain": [
       "<Figure size 432x288 with 1 Axes>"
      ]
     },
     "metadata": {
      "needs_background": "light"
     },
     "output_type": "display_data"
    }
   ],
   "source": [
    "plt.figure()\n",
    "plt.plot(time_val,result)"
   ]
  },
  {
   "cell_type": "code",
   "execution_count": null,
   "id": "bff965d6",
   "metadata": {},
   "outputs": [],
   "source": []
  },
  {
   "cell_type": "code",
   "execution_count": null,
   "id": "45c8db71",
   "metadata": {},
   "outputs": [],
   "source": []
  }
 ],
 "metadata": {
  "kernelspec": {
   "display_name": "Python 3 (ipykernel)",
   "language": "python",
   "name": "python3"
  },
  "language_info": {
   "codemirror_mode": {
    "name": "ipython",
    "version": 3
   },
   "file_extension": ".py",
   "mimetype": "text/x-python",
   "name": "python",
   "nbconvert_exporter": "python",
   "pygments_lexer": "ipython3",
   "version": "3.7.11"
  }
 },
 "nbformat": 4,
 "nbformat_minor": 5
}
